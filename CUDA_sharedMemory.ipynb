{
  "nbformat": 4,
  "nbformat_minor": 0,
  "metadata": {
    "colab": {
      "provenance": [],
      "authorship_tag": "ABX9TyOCJAksFfm5SRsZmxxIodM+",
      "include_colab_link": true
    },
    "kernelspec": {
      "name": "python3",
      "display_name": "Python 3"
    },
    "language_info": {
      "name": "python"
    }
  },
  "cells": [
    {
      "cell_type": "markdown",
      "metadata": {
        "id": "view-in-github",
        "colab_type": "text"
      },
      "source": [
        "<a href=\"https://colab.research.google.com/github/hyeonji0401/CUDA_practice/blob/main/CUDA_sharedMemory.ipynb\" target=\"_parent\"><img src=\"https://colab.research.google.com/assets/colab-badge.svg\" alt=\"Open In Colab\"/></a>"
      ]
    },
    {
      "cell_type": "markdown",
      "source": [
        "# 9.1 공유 메모리 사용 방법\n",
        "- 크게 다음 3가지로 구분할 수 있음\n",
        "  - 스레드 블록 내 스레드들의 공유 데이터 보관\n",
        "  - L1 캐시(HW 관리 캐시)\n",
        "  - 사용자 관리(user-managed) 캐시"
      ],
      "metadata": {
        "id": "quu5kmxa_mcT"
      }
    },
    {
      "cell_type": "markdown",
      "source": [
        "1.스레드 블록 내 스레드들의 공유 데이터 보관\n",
        "- 만약 블록 내 스레드들 사이에 정보 또는 데이터를 주고 받아야한다면 공유 메모리에 변수 등 공간을 만들고 여러 스레드들이 해당 공간에 데이터를 읽고 쓰는 형태로 구현 가능함\n",
        "- 동기화를 주의해야함\n",
        "  - 공유 메모리는 여러 스레드가 동시에 데이터를 쓰거나 읽을 수 있기 때문에 읽고 쓰는 순서에 대한 약속을 지켜야함\n",
        "  - 동기화란 스레드들 사이에 순서를 맞추는 행위 또는 서로 정보를 교환하는 행위라고 말할 수 있음\n",
        "  - 볼록 내 스레드들에 대한 동기화함수는 _syncthreads()\n",
        "    - 블록 내 모든 스레드가 해당 지점에 도착할 때까지 다른 스레드들의 진행을 막는 역할을 함"
      ],
      "metadata": {
        "id": "UCRlwc13zJfw"
      }
    },
    {
      "cell_type": "markdown",
      "source": [
        "2.L1캐시(HW 관리 캐시)\n",
        "- 스레드들이 공유하는 데이터를 판단하기 어렵고, 자주 사용하는 데이터에 대한 분류 및 관리를 직접 하기 어려운 경우 간단히 사용할 수 있는 방법\n",
        "- 공유 메모리를 L1 캐시로 사용하면 일반적인 캐시와 유사한 형태로 동작함\n",
        "\n",
        "**캐시의 동작원리**\n",
        "\n",
        "> - 캐시는 일반적으로 코어 내부에 있는 메모리를 말함\n",
        "- 시스템 메모리에 대해 입출력 병목 현상을 해소하는 역할을 함\n",
        "- 크기가 매우 작지만 캐시가 입출력 병목 현상에 도움이 되는 이유는 지역성 때문\n",
        " - 대표적 예시는 for문\n",
        "\n",
        "- GPU의 캐시 또한 CPU 캐시와 유사하게 동작함\n",
        "- 그러나 GPU는 SIMT의 구조를 가지므로 32개의 스레드가 동시에 접근함\n",
        "  - 따라서 워프 내 스레드들의 메모리 접근 패턴에 따라 성능이 크게 달라질 수 있음\n",
        "- 워프 내 스레드들이 한 번에 접근하는 데이터 블록의 수가 메모리 접근 횟수가 됨\n",
        "  - 이상적인 경우 : 1번 / 최악의 경우 : 32번\n",
        "- 따라서 워프 내 스레드들이 동일한 또는 인접한 데이터에 접근하도록 스레드 레이아웃 및 알고리즘을 설계하면 그렇지 않은 경우 대비 큰 성능 향상을 기대할 수 있음"
      ],
      "metadata": {
        "id": "kaV9KdK-_rvk"
      }
    },
    {
      "cell_type": "markdown",
      "source": [
        "3.사용자 관리 캐시\n",
        "- L1캐시는 HW가 관리하기 때문에 알고리즘의 특징을 반영한 최적의 캐시 활용 효율이 얻기 어려움\n",
        "- 사용자 관리 캐시란 알고리즘의 특성을 기반으로 데이터 접근 패턴을 파악하고 그에 따라 사용자가 직접 목표 데이터를 공유 메모리 영역으로 가져오거나 내리면서 공유 메모리는 캐시처럼 사용하는 것을 말함"
      ],
      "metadata": {
        "id": "6I-9_ECHBfpH"
      }
    },
    {
      "cell_type": "markdown",
      "source": [
        "# 9.2 공유 메모리 사용 에제 - 1024보다 작은 행렬의 곱셈\n",
        "\n",
        "- 공유 메모리 사용 전 코드\n",
        "\n",
        "\n",
        "```\n",
        "__global__ void matMul_kernel(float * _A, float* _B, float* _C)\n",
        "{\n",
        "  int row = threadIdx.x;\n",
        "  int col = threadIdx.y;\n",
        "  int index = row*blockDim.y +col;\n",
        "  float result =0;\n",
        "  for(int k=0; k< K_SIZE; k++)\n",
        "    result+=+A[row * K_SIZE +K] * _B[col+k*COL_SIZE];\n",
        "  _C[index] = result;\n",
        "}\n",
        "```\n",
        "**어떤 데이터를 메모리에 올릴 것인가?**\n",
        "- 공유 메모리를 사용자 성의 캐시로 사용하는 전략의 핵심은 블록 내 스레드들이 자주 접근하는 데이터를 공유 메모리에 가져다 놓음으로써, 전역 메모리(디바이스 메모리 영역) 접근 수를 줄이는 것임\n",
        "\n",
        "- 입력 행렬 A와 B는 각 COL_SIZE번, ROW_SIZE번씩 접근하게 됨\n",
        "- 행렬 C는 결과를 쓰기 위해 한 번씩만 접근하면 됨\n",
        "- **공유 메모리 사용 안할 시 총 접근 횟수**\n",
        "\n",
        "\n",
        "> 2*(ROW_SIZE*COL_SIZE*K_SIZE) + (ROW_SIZE* COL_SIZE)\n",
        "\n",
        "> (2*K_SIZE+1)*(ROW_SIZE*COL_SIZE)\n",
        "> O(ROW_SIZE*COL_SIZE*KSIZE)\n",
        "\n",
        "- 행렬 A,B 원소들은 반복해서 접근하므로 공유 메모리에 올려 놓으면 전역 메모리 접근 횟수를 줄일 수 있음\n",
        "\n",
        "**공유 메모리에 올릴 수 있는 크기인가?**\n",
        "- 만약 ROW_SIZE , COL_SIZE = 32, K_SIZE = 128일 경우\n",
        "= 행렬 A, B의 크기는 16kb(4096*4byte)\n",
        "- CUDA를 지원하는 대부분의 GPU는 48kb보다 큰 공유 메모리를 가지고 있음\n",
        "\n",
        "- **공유 메모리 사용 시 총 접근 횟수**\n",
        "> (ROW_SIZE* K_SIZE) + (K_SIZE*COL_SIZE) +(ROW_SIZE * COL_SIZE)\n",
        "> = K_SIZE * (ROW_SIZE + COL_SIZE) +ROW_SIZE * COL_SIZE\n",
        ">O(K_SIZE*(ROW_SIZE+COL_SIZE)\n",
        "\n",
        "- 공유 메모리를 사용하지 않는 경우 대비 전역 메모리에 대한 접근 횟수를 약 1/ROW_SIZE 또는 1/COL_SIZE수준으로 크게 감소시켰음\n"
      ],
      "metadata": {
        "id": "MetS9ditQ85S"
      }
    },
    {
      "cell_type": "markdown",
      "source": [
        "[행렬 곱셈 커널 - 공유 메모리 사용]\n",
        "\n",
        "\n",
        "```\n",
        "__global__ void matMul_kernel_shared(float* _A, float* _B, float* _C){\n",
        "  int row = threadIdx.x;\n",
        "  int col = threadidx.y;\n",
        "  int index = row * blockDim.y + col;\n",
        "\n",
        "  __shared__ float sA[ROW_SIZE][K_SIZE];\n",
        "  __shared__ flost sB[K_SIZE][COL_SIZE];\n",
        "\n",
        "  if(row==0){\n",
        "    for(int k=0; k<K_SIZE; k++)\n",
        "      sB[k][col] = _B[col+k*COL_SIZE];\n",
        "  }\n",
        "  if(col==0){\n",
        "    for(int k=0; k<K_SIZE; k++)\n",
        "      sA[row][k] = _A[row*K_SIZE+k];\n",
        "  }\n",
        "\n",
        "  float result =0;\n",
        "  for(int k=0; k<K_SIZE; k++)\n",
        "      result +=sA[row][k] * sB[k][col];\n",
        "  _C[index] = result;\n",
        "\n",
        "```\n",
        "\n"
      ],
      "metadata": {
        "id": "Us71BBm28cz9"
      }
    },
    {
      "cell_type": "markdown",
      "source": [
        "- 공융 메모리를 사용하려면 먼저 공유 메모리 영역에 공간을 할당 받아야함\n",
        "  - __shared__ 키워드를 이용해서 정적 할당 방식으로 메모리 할당\n",
        "- 전역 메모리에서 공유 메모리로 데이터를 복사해야함\n",
        "  - 공유 메모리 공간은 블록 내 모든 스레드가 공유하므로 하나의 스레드가 데이터를 복사하더라도 다른 스레드들도 접근해서 사용할 수 있음\n",
        "  - 대표 스레드(master thread) 하나가 복사를 전담하는 방법을 사용할 수 있음"
      ],
      "metadata": {
        "id": "YBJmzgpk9cGf"
      }
    },
    {
      "cell_type": "markdown",
      "source": [
        "\n",
        "\n",
        "```\n",
        "if(threadIdx.x==0 && threadIdx.y==0){\n",
        "  for(int r=0; k<ROW_SIZE; k++)\n",
        "    for(int k=0; k<K_SIZE; k++){\n",
        "       sA[r][k] = _A[r*K_SIZE +k];\n",
        "    }\n",
        "  \n",
        "  for(int c=0; k<COL_SIZE; k++)\n",
        "     for(int k=0; k<K_SIZE; k++){\n",
        "        sB[k][c] = _B[c+k+COL_SIZE];\n",
        "     }\n",
        "}\n",
        "__syncthreads();\n",
        "```\n",
        "\n",
        "- 대표 스레드가 데이터 복사를 전담하는 경우 다른 스레드들은 대표 스레드가 작업을 마칠 때까지 아무 일도 하지 않고 대기해야함\n",
        "\n"
      ],
      "metadata": {
        "id": "WoVz1uh1-DCe"
      }
    },
    {
      "cell_type": "markdown",
      "source": [
        "- 대표 메모리보다는 되도록 많은 스레드가 데이터 복사 작업에 참여하는 것이 효율적임\n",
        "  - 이를 위해 각 스레드가 어떤 부분을 담당할지 결정해야함\n",
        "  - 본 실습에서는 스레드 레이아웃을 활용함\n",
        "     - 각 스레드가 자신이 담당한느 원소를 게산하기 위해 필요한 데이터를 복사하는 작업에 참여하도록 함\n",
        "     - 각 스레드가 A의 row번째 행과 B의 col번째 열을 복사하도록함\n",
        "        - 데이터 중복 복사 발생\n",
        "        - 이를 방지하기 위해서는 동일 행 또는 동일 열을 처리하는 스레드들을 복사 작업에서 배제해야함\n",
        "\n",
        "- 행렬 B는 col을 기준으로 데이터를 복사하며 각 열에서 하나의 스레드만 데이터 복사에 참여\n",
        "\n",
        "\n",
        "```\n",
        "if(row==0){\n",
        "  for(int k=0; k<K_SIZE; k++)\n",
        "    sB[k][col] = _B[col+k*COL_SIZE];\n",
        "}\n",
        "```\n",
        "\n",
        "- 행렬 A는 row를 기준으로 데이터를 복사하여 각 행에서 하나의 스레드만 데이터 복사에 참여\n",
        "\n",
        "\n",
        "```\n",
        "if(col==0)\n",
        "  for(int k=0; k<COL_SIZE; k++){\n",
        "     sA[row][k] = _A[row*K_SIZE + k];\n",
        "```\n",
        "\n",
        "- 행렬 A,B를 공유 메모리로 옮겨놓은 다음 공유 메모리에 있는 데이터로 연산을 수행하면 되는데 그 전에 다 옮겨졌는지 확인이 필요함\n",
        "  - 모든 스레드의 발을 맞추는 동기화 작업이 필요함\n",
        "  - __syncthreads()를 통해 블록 내 스레드들을 동기화시킬 수 있음\n",
        "  - 동기화 함수를 제거하면 결과가 잘못나오는 것을 확인할 수 있음\n",
        "\n",
        "\n",
        "\n"
      ],
      "metadata": {
        "id": "ie_oIajw6yA5"
      }
    },
    {
      "cell_type": "markdown",
      "source": [
        "**성능비교**\n",
        "\n",
        "- 공유 메모리 안쓴 코드 실행 시간\n",
        "\n",
        "![image.png](data:image/png;base64,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)"
      ],
      "metadata": {
        "id": "y0y-xtOtR4gK"
      }
    },
    {
      "cell_type": "markdown",
      "source": [
        "- 공유 메모리 사용한 코드 실행 시간\n",
        "\n",
        "........더 느리다 다시 코드 작성해봐야겟다,,,,,,,,,이상하다,,,,,,,,,"
      ],
      "metadata": {
        "id": "QvPaWZV-TaOc"
      }
    }
  ]
}