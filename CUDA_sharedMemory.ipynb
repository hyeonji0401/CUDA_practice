{
  "nbformat": 4,
  "nbformat_minor": 0,
  "metadata": {
    "colab": {
      "provenance": [],
      "authorship_tag": "ABX9TyMNNI0k55XB5PMBUVhyXJOq",
      "include_colab_link": true
    },
    "kernelspec": {
      "name": "python3",
      "display_name": "Python 3"
    },
    "language_info": {
      "name": "python"
    }
  },
  "cells": [
    {
      "cell_type": "markdown",
      "metadata": {
        "id": "view-in-github",
        "colab_type": "text"
      },
      "source": [
        "<a href=\"https://colab.research.google.com/github/hyeonji0401/CUDA_practice/blob/main/CUDA_sharedMemory.ipynb\" target=\"_parent\"><img src=\"https://colab.research.google.com/assets/colab-badge.svg\" alt=\"Open In Colab\"/></a>"
      ]
    },
    {
      "cell_type": "markdown",
      "source": [
        "# 9.1 공유 메모리 사용 방법\n",
        "- 크게 다음 3가지로 구분할 수 있음\n",
        "  - 스레드 블록 내 스레드들의 공유 데이티ㅓ 보관\n",
        "  - L1 캐시(HW 관리 캐시)\n",
        "  - 사용자 관리(user-managed) 캐시"
      ],
      "metadata": {
        "id": "quu5kmxa_mcT"
      }
    }
  ]
}