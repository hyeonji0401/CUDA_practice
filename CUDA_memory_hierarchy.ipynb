{
  "nbformat": 4,
  "nbformat_minor": 0,
  "metadata": {
    "colab": {
      "provenance": [],
      "authorship_tag": "ABX9TyNj8V0Q2mnW3Pv8qR1CzoLV",
      "include_colab_link": true
    },
    "kernelspec": {
      "name": "python3",
      "display_name": "Python 3"
    },
    "language_info": {
      "name": "python"
    }
  },
  "cells": [
    {
      "cell_type": "markdown",
      "metadata": {
        "id": "view-in-github",
        "colab_type": "text"
      },
      "source": [
        "<a href=\"https://colab.research.google.com/github/hyeonji0401/CUDA_practice/blob/main/CUDA_memory_hierarchy.ipynb\" target=\"_parent\"><img src=\"https://colab.research.google.com/assets/colab-badge.svg\" alt=\"Open In Colab\"/></a>"
      ]
    },
    {
      "cell_type": "markdown",
      "source": [
        "# 8.1 컴퓨터 시스템의 메모리 계층\n",
        "\n",
        "보조기억장치 -> 메인 메모리 -> 캐시 -> 레지스터\n",
        "\n",
        "-> 으로 갈수록 적은 용량, 고성능, 고가임\n",
        "\n",
        "- 보조기억장치(auxilary memory)\n",
        " - 흔히 디스크로 부르며 데이터를 보관하기 위해 사용함\n",
        " - 컴퓨터가 데이터를 사용하기 위해서는 보조기억장치에 있는 데이터를 메인 메모리로 가지고 와야함\n",
        "- 메인 메모리(main memory)\n",
        " - 연산 장치가 접근할 수 있는 가장 먼 저장장치로 연산을 위한 데이터를 보관하는 공간\n",
        " - 흔히 메모리라고 부름\n",
        "\n",
        "**=> 보조메모리와 메인 메모리를 구분한 이유**\n",
        "\n",
        "- 최소한의 비용으로 최대한의 효과를 얻기 위해\n",
        " - 저렴하지만 용량이 큰 보조기억장치에 모든 데이터를 보관해두고 현재 작업에 필요한 데이터만 속도가 빠른 메인 메모리에 가져와 사용하는 방법으로 용량과 속도를 둘다 잡는 전략\n",
        "\n",
        " - 레지스터 & 캐시\n",
        "  - CPU 내부에 있는 메모리롤 메인 메모리보다 월등히 빠르지만 그만큼 비싸고 매우 작은 저장공간\n",
        "  - 레지스터 : 연산 장치가 현재 수행 중인 연산을 위해 사용하는 임시 저장 공간\n",
        "  - 캐시 : 자주 사용하는 데이터를 가져다 놓는 공간\n",
        "  - 우리가 직접 제어할 수 없고 CPU와 같은 하드웨어에 의해 관리됨\n",
        "\n",
        "\n",
        "=> GPU 메모리도 계층을 나눠놓은 이유가 유사하지만 CPU의 캐시와 달리 GPU는 특정 캐시 메모리(공유 메모리)를 직접 제어할 수 있는 특성을 가짐"
      ],
      "metadata": {
        "id": "339-8TAkMTyp"
      }
    }
  ]
}