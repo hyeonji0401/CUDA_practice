{
  "nbformat": 4,
  "nbformat_minor": 0,
  "metadata": {
    "colab": {
      "provenance": [],
      "authorship_tag": "ABX9TyPHdNaT3IeRRF5rV9AKDgLC",
      "include_colab_link": true
    },
    "kernelspec": {
      "name": "python3",
      "display_name": "Python 3"
    },
    "language_info": {
      "name": "python"
    }
  },
  "cells": [
    {
      "cell_type": "markdown",
      "metadata": {
        "id": "view-in-github",
        "colab_type": "text"
      },
      "source": [
        "<a href=\"https://colab.research.google.com/github/hyeonji0401/CUDA_practice/blob/main/CUDA_memory_hierarchy.ipynb\" target=\"_parent\"><img src=\"https://colab.research.google.com/assets/colab-badge.svg\" alt=\"Open In Colab\"/></a>"
      ]
    },
    {
      "cell_type": "markdown",
      "source": [
        "# 8.1 컴퓨터 시스템의 메모리 계층\n",
        "\n",
        "보조기억장치 -> 메인 메모리 -> 캐시 -> 레지스터\n",
        "\n",
        "-> 으로 갈수록 적은 용량, 고성능, 고가임\n",
        "\n",
        "- 보조기억장치(auxilary memory)\n",
        " - 흔히 디스크로 부르며 데이터를 보관하기 위해 사용함\n",
        " - 컴퓨터가 데이터를 사용하기 위해서는 보조기억장치에 있는 데이터를 메인 메모리로 가지고 와야함\n",
        "- 메인 메모리(main memory)\n",
        " - 연산 장치가 접근할 수 있는 가장 먼 저장장치로 연산을 위한 데이터를 보관하는 공간\n",
        " - 흔히 메모리라고 부름\n",
        "\n",
        "**=> 보조메모리와 메인 메모리를 구분한 이유**\n",
        "\n",
        "- 최소한의 비용으로 최대한의 효과를 얻기 위해\n",
        " - 저렴하지만 용량이 큰 보조기억장치에 모든 데이터를 보관해두고 현재 작업에 필요한 데이터만 속도가 빠른 메인 메모리에 가져와 사용하는 방법으로 용량과 속도를 둘다 잡는 전략\n",
        "\n",
        " - 레지스터 & 캐시\n",
        "  - CPU 내부에 있는 메모리롤 메인 메모리보다 월등히 빠르지만 그만큼 비싸고 매우 작은 저장공간\n",
        "  - 레지스터 : 연산 장치가 현재 수행 중인 연산을 위해 사용하는 임시 저장 공간\n",
        "  - 캐시 : 자주 사용하는 데이터를 가져다 놓는 공간\n",
        "  - 우리가 직접 제어할 수 없고 CPU와 같은 하드웨어에 의해 관리됨\n",
        "\n",
        "\n",
        "=> GPU 메모리도 계층을 나눠놓은 이유가 유사하지만 CPU의 캐시와 달리 GPU는 특정 캐시 메모리(공유 메모리)를 직접 제어할 수 있는 특성을 가짐"
      ],
      "metadata": {
        "id": "339-8TAkMTyp"
      }
    },
    {
      "cell_type": "markdown",
      "source": [
        "# 8.2 CUDA 메모리 계층\n",
        "\n",
        "1.스레드 수준 메모리\n",
        "- 각 스레드 내부에서 사용되므로 다른 스레드에서 접근할 수 없는 메모리 공간\n",
        "\n",
        "가. 레지스터\n",
        "- CUDA 코어 연산을 위한 데이터를 담아두고 사용하는 공간\n",
        "- 스레드가 연산을 위해 데이터를 저장하는 공간\n",
        "- 커널 내부에서 선언된 지역 변수를 위해 사용됨\n",
        "- GPU 메모리 중 가장 빠른 메모리로 일반적으로 GPU cycle보다 작은 시간 소요\n",
        "- SM내부에 있어 인-코어(in-core) 메모리라고 부름\n",
        "- 속도는 빠르지만 가장 크기가 작은 메모리임(블록 또는 SM하나당 8k-64k개의 32비트)\n",
        "\n",
        " ex) 하나의 스레드 블록 당 최대 스레드 1024개를 사용하는 경우\n",
        "\n",
        "    - 한 스레드는 8 ~ 64개의 레지스터만 사용 가능 (8 ~ 64개의 정수형 변수,,)\n",
        "- 활성 블록 수를 늘리게 되면 스레드 당 사용가능한 레지스터 수는 더 줄어들음\n",
        "\n",
        "=> 활성 블록의 수를 2로 만들면 스레드당 할당 가능한 레지스터 수는 절반으로 줄어듦\n",
        "\n",
        "- 실제 지역 변수의 수가 사용 가능한 레지스터 수보다 많은 경우, 어떤 지역 변수를 레지스터에 담을지 여부는 컴파일러에 의해 결정됨\n",
        "- 레지스터 담지 못하는 지역 변수는 지역 메모리에 할당됨\n",
        "\n",
        "2. 지역 메모리\n",
        "- SM 밖에 있는 오프-칩(off-chip) 메모리임\n",
        "- 접근 속도는 400 ~ 600 GPU cycle정도로 레지스터보다 느리지만 사용 가능한 메모리 공간이 큼\n",
        "- GPU 디바이스 메모리(DRAM: GPU사양에서 말하는 '메모리'를 의미함) 공간 일부가 지역 메모리로 사용됨\n",
        "- 전역 메모리 또한 디바이스 메모리 영역을 사용하지만 지역 메모리는 각 스레드가 자신만의 공간을 갖는다는 점에서 전역메모리와 구분됨\n",
        "- 레지스터를 사용하기에는 큰 구조체나 배열 등이나 일반 변수이지만 레지스터 공간을 할당 받지 못할 경우 지역 메모리 공간을 사용함\n",
        "(스레드당 512KB 제한이 있지만 스레드 하나가 지역 변수를 사용하기에는 충분함)\n",
        "\n"
      ],
      "metadata": {
        "id": "rEny6a0zTJlX"
      }
    },
    {
      "cell_type": "markdown",
      "source": [
        "2.블록 수준 메모리\n",
        "- 모든 스레드가 접근할 수 있는 공유 메모리 공간\n",
        "- 1~4 GPU cycle 정도로 속도가 빠른 온-칩 메모리임\n",
        "- 디바이스 메모리보다 작으며 compute capability에 따라 SM당 16~96kb의 크기를 가짐\n",
        "- 공유 메모리 공간을 어떻게 사용하느냐에 따라 CUDA 프로그램 성능이 수 배 빨라질 수 있음 따라서 해당 메모리 공간의 크기를 아는 것이 중요함\n",
        "- 블록 내 모든 스레드가 공동으로 자주 사용하는 데이터를 보관함으로써 메모리 공간을 절약함과 동시에 데이터 접근 속도를 높일 수 있음\n",
        "- SM 내 공유 메모리 공간은 해당 SM을 사용하는 스레드 블록들이 나누어서 사용하므로 하나의 스레드 블록에서 사용하는 공유 메모리 공간의 크기는 활성 블록의 수에 영향을 줌\n",
        "- 공유 메모리를 사용하는 방법은 크게 3가지로 9장에서 나올 예정\n",
        " - 사용자가 직접 관리하는 사용자 관리 캐시 형태 사용법\n",
        "   - 공유 메모리를 __shared__지시어를 통해 명시적으로 선언 및 할당\n",
        "   - 정적할당과 동적할당 방법으로 할당받을 수 있음\n",
        "\n",
        "가. 정적 할당(static allocation)\n",
        "\n",
        "\n",
        "```\n",
        "__global__ void kernel(void)\n",
        "{\n",
        "  __shared__ int sharedMemory[512];\n",
        "}\n",
        "```\n",
        "- 커널 내부에서 공유 메모리 공간을 선언 및 할당하는 방법\n",
        "- '__ shared __'가 붙은 변수 선언의 경우 각 스레드의 지역변수가 아닌 스레드 블록 내 모든 스레드가 공유하는 변수로 선언됨\n",
        "- 해당 변수는 스레드 블록당 하나만 선언된다는 의미임(서로 다른 스레드 블록은 자신만의 sharedMemory배열을 가진다는 말임)\n",
        "- 정적 할당의 경우 CUDA 프로그램이 컴파일될때 크기가 결정됨\n",
        "- compute capability와 같은 GPU 사양에 따라 사용할 공유 메모리의 크기를 변경하고 싶으면 동적 할당 방법을 사용하면됨\n",
        "\n",
        "나. 동적 할당(dynamic allocation)\n",
        "\n",
        "\n",
        "```\n",
        "extern __shared__ int sharedMemory[];\n",
        "__global__ void kernel(void)\n",
        "{...}\n",
        "int main(void)\n",
        "{\n",
        "  int size = 512;\n",
        "  kernel<<<gridDim, blockDim, sizeof(int) * size>>>();\n",
        "}\n",
        "```\n",
        "- 크기가 정해지지 않은 extern 배열 형태(빈 대괄호 사용)로 커널 밖에서 선언\n",
        "- 배열의 크기는 실행 구성의 세번째 인자 값에 의해 결정되어 커널 실행 시 메모리 공간이 할당됨\n",
        "\n",
        "\n",
        "\n",
        "```\n",
        "extern __shared__ int sharedPool[];\n",
        "int *sIntArray = sharedPool;\n",
        "float *sFloatArray = (float*)&sharedPool[sizeIntArr];\n",
        "\n",
        "__global__ void kernel(void){\n",
        "  ...\n",
        "  sIntArray[threadIdx.x]=0;\n",
        "  sFloatArray[thtreadIdx.x] = 0.0f;\n",
        "  ...\n",
        "}\n",
        "\n",
        "int main(void)\n",
        "{\n",
        "  int size=512;\n",
        "  kernel <<gridDim, blockDim, sizeof(int) * sizeIntArr + sizeif(float) * sizeFloatArr>>>();\n",
        "}\n",
        "```\n",
        "- 실행 구성의 세 번째 인자에는 하나의 값만 전달 가능하며, 여러 개의 공유 메모리 공간을 동적 할당할 수 없다는 의미도 됨\n",
        "- 하나의 커널 안에서 여러 개의 큰 공유 메모리 배열이 필요하다면 모든 배열의 크기를 더한 만큼의 공간을 가지는 하나의 큰 공유 메모리 배열을 선언하고 포인터를 이용하여 해당 공간을 분할하는 방법을 사용해야함\n",
        "\n",
        "\n",
        "\n",
        "\n"
      ],
      "metadata": {
        "id": "Fsf4gRpkrd16"
      }
    },
    {
      "cell_type": "markdown",
      "source": [
        "3.그리드 수준 메모리\n",
        "\n",
        "- 그리드 내 모든 스레드가 접근할 수 있는 메모리 영역\n",
        "- 커널을 수행하면 그리드가 생성되므로 커널을 수행하는 모든 스레드가 접근 가능\n",
        "\n",
        "가. 전역 메모리\n",
        "- 모든 스레드가 접근 가능한 메모리 영역이며 디바이스 메모리 공간 사용(전역 메모리를 대략 디바이스 메모리라고도 말함)\n",
        "- GPU 메모리 중 가장 큰 메모리 공간을 차지하지만 접근 속도는 400~800GPU cycle 정도로 가장 느림\n",
        "- CUDA 프로그램을 위한 데이터는 기본적으로 전역 메모리 공간에 적재되며 필요에 따라 공유 메모리나 지역 메모리로 복사되어 사용됨\n",
        "- 호스트 코드에서 cudaMalloc()을 통해 요청한 메모리 공간이 할당되는 공간이 전역 메모리 공간\n",
        "- cudaMemcpy()를 통해 데이터를 복사하는 것은 전역 메모리에 있는 데이터를 복사한다는 의미임\n",
        "\n",
        "=> 전역 메모리는 호스트 디바이스 간 통신 메모리임"
      ],
      "metadata": {
        "id": "ThFQwTwksDfY"
      }
    },
    {
      "cell_type": "markdown",
      "source": [
        "나. 상수 메모리\n",
        "\n",
        "\n",
        "```\n",
        "__constant__ int constMemory[512];\n",
        "\n",
        "__global__ void kernel(void){\n",
        "...\n",
        "int a = constMemory[threadIdx.x];\n",
        "constMemory[threadIdx.x]=0;\n",
        "...\n",
        "}\n",
        "int main(void)\n",
        "{\n",
        "  int table[512] = {0};\n",
        "  cudaMemcpyToSymbol(constMemory, table, sizeof(int) * 512); // 상수 메모리 배열 값 초기화\n",
        "  ...\n",
        "  kerenl<<<gridDim, blockDim>>>();\n",
        "}\n",
        "\n",
        "```\n",
        "\n",
        "- 변하지 않은 값을 저장하고 있는 공간을 의미\n",
        "- 쓰기 연산은 불가능한 읽기 전용 메모리임\n",
        "- 전역 메모리와 동일하게 디바이스 메모리 영역을 사용하며 최대 크기는 64kb임\n",
        "- 전역 메모리와는 달리 전용 온-칩 메모리인 상수 캐시를 사용함\n",
        " - 상수 캐시 크기는 compute capability에 따라 다르며 대략 48kb수준임\n",
        " - 상수 메모리에 대한 접그은 캐싱되며 캐싱 적중률이 높을 경우 전역 메모리 대비 데이터 접근 속도를 크게 높일 수 있음\n",
        "- __ constant __ 키워드를 통해 전역 범위로 선언하며 그 값은 호스트에 의해 커널 호출 전에 초기화되어야함\n",
        "\n",
        "- cudaMemcpyToSymbol 함수 원형( 상수 메모리 변수 값을 초기화하는 함수)\n",
        "\n",
        "\n",
        "```\n",
        "_cudaError_t cudaMemoryToSymbol (const void* symbol, const void* src, size_t count, size_t offset=0, cudaMemcpyKind kind = cudaMemcpyHostToDevice)\n",
        "```\n",
        "- 커널 내부에서 배열의 값을 이용해서 사용할 수는 있으나 배열의 값을 수정할 수는 없음\n",
        "\n"
      ],
      "metadata": {
        "id": "RGFRrZl3jM45"
      }
    },
    {
      "cell_type": "markdown",
      "source": [
        "다. 텍스처 메모리\n",
        "- GPU의 본래 기능인 그래픽스 연산을 위해 사용되는 메모리 공간\n",
        "- 읽기 전용 메모리이며 디바이스 메모리 공간을 사용하고 전용 텍스처 캐시를 가지고 있음\n",
        "- 2차원 공간적 지역성에 최적화되어있으며 floating-poing interpolation과 같은 다양한 하드웨어 필터링을 지원함\n",
        "- CUDA 프로그램에서 사용하는 경우는 많지 않음"
      ],
      "metadata": {
        "id": "Nr-zRIG1RAyY"
      }
    },
    {
      "cell_type": "markdown",
      "source": [
        "4.GPU 캐시\n",
        "\n",
        "- 캐시는 사용자가 직접 제어할 수 없고 CPU나 GPU 등 하드웨어에 의해서 관리됨\n",
        "- 일정 규칙에 따라 하드웨어가 자동으로 활용하는 공간으로 하드웨어 관리 메모리라고도 부름\n",
        "- 캐시는 연산 장치과 얼마나 가까운지에 따라 L1, L2, L3 등과 같이 단계별로 구성될 수 있음(L1이 제일 가까움)\n",
        "- Compute capability 2.X 이상인 엔비디아 GPU들은 L2캐시를 가지고 있음\n",
        " - L2캐시는 모든 SM들이 공유하는 캐시 공간임\n",
        "- L1, L2 캐시의 동작방식은 CPU 캐시와 유사함\n",
        " - 그러나 CPU는 일반적으로 한 번에 하나의 스레드가 데이터 접근을 요청하지만 GPU는 워프(32개 스레드)가 메모리 접근을 요청함\n",
        " - L1 캐시는 SM 내부의 온-칩 메모리인 공유 메모리 공간을 사용함\n",
        "  - 공유 메모리와 같은 메모리 공간을 사용함\n",
        "  - 각 커널이 SM 내부 온-칩 메모리를 L1캐시와 스레드 블록을 위한 공유 메모리에 어느 정도 사용할지 조절할 수 있음\n",
        "\n",
        "<L1 캐시 설정 방법>\n",
        "```\n",
        "//Device code\n",
        "__global__ void MyKernel()\n",
        "{\n",
        "...\n",
        "}\n",
        "//Host Code\n",
        "//Runttime API\n",
        "//cudaFuncCachePreferShared : sharedMemory is 48kb\n",
        "//cudaFuncCachePreferEqual : sharedMemory is 32kb\n",
        "//cudaFuncCachePerferL1 : sharedMemory is 16kb\n",
        "//cudaFuncCachePreferNone : no preference = 컴파일러가 메모리 크기를 자동으로 결정\n",
        "cudaFuncSetCacheConfig(MyKernel, cudaFuncCachePerferShared)\n",
        "```\n",
        "- 첫번째 인자 : 캐시 설정을 지정할 커널 이름\n",
        "- 두번쨰 인자: 분배 정책\n",
        "- 기본 캐시 설정은 cudaFuncCachePerferNone이며 명시적으로 지정하지 않으면 컴파일러가 적절한 크기를 결정함\n",
        "- 분배 정책은 권장의 의미로서 커널의 상황에 따라 실제 분해는 달라질 수 있음\n",
        "- L1 캐시 옵션을 설정하지 않아도 성능에는 큰 문제가 없으나 최대 성능으로 끌어 올리고 싶다면 설정 시 성능 향상을 기대할 수 있음\n",
        "\n",
        "\n",
        "\n"
      ],
      "metadata": {
        "id": "g38lhUgjF6oI"
      }
    },
    {
      "cell_type": "markdown",
      "source": [
        "# 8.3 CUDA 메모리 모델과 성능\n",
        "\n",
        "- 메모리를 어떻게 사용하는 지에 따라 CUDA 프로그램의 성능이 달라질 수 있음\n",
        "- 본 절에서는 CUDA 메모리 모델이 성능에 미치는 영향을 이해하고 메모리 관점에서 CUDA 프로그램의 성능을 조율하는 방법을 알아봄\n",
        "\n",
        "1.병렬성 최대화\n",
        "- CUDA 프로그램에서 병렬성이란 동시에 연산을 수행하는 스레드의 수로 정의할 수 있음\n",
        "- CUDA에서 활성 워프와 활성 블록의 수가 많을수록 병렬성이 높아짐\n",
        "\n",
        "가. 활성 워프\n",
        "- 워프 내 모든 스레드들이 필요한 레지스터 공간을 모두 할당받은 워프를 말함\n",
        " - SM 내부에는 레지스터 파일(레지스터 집합)이 있으며 해당 SM에 할당된 블록 내 모든 스레드들이 이를 나누어 사용함\n",
        " - 한 블록이 필요로 하는 레지스터 수는 (블록 내 스레드 수 * 스레드당 필요 레지스터 수)와 같음\n",
        " - 사용하는 레지스터 수가 많거나 블록 내 스레드 수가 많을 경우 일부 스레드는 레지스터 공간을 할당받지 못할 수 있음\n",
        " - 즉 필요한 레지스터 공간을 할당받았단느 것은 바로 실행이 가능하다는 의미임\n",
        "- 활성 워프의 수가 많더라고 SM 내 CUDA 코어 수에 따라 일부 워프만 실제로 연산을 수행하게 됨\n",
        " - 이때 CUDA 코어를 사용 중인 워프가 입출력 작업 등에 의해 CUDA 코어를 반납 시 다른 활성 워프가 CUDA 코어를 할당받는 과정에서 문맥 교환이 발생함\n",
        " - 연산에 필요한 레지스터 공간을 이미 보유한 상태이므로 무비용 문맥 교환이 됨\n",
        "- 비활성 워프의 문맥 교환은 무비용이 아님\n",
        " - 비활성 워프는 레지스터 공간을 할당받지 못했으므로 다른 레지스터 공간을 빼앗아와야하므로 비용이 발생함\n",
        " - 따라서 활성 워프의 수가 적은 경우 문맥 교환 비용 발생에 따라 병렬성과 CUDA 코어 활용 효율이 크게 떨어질 수 있음\n",
        "- 활성 워프의 수를 늘리는 방법\n",
        " - 스레드당 사용하는 레지스터의 수를 줄이는 것\n",
        "   - 적은 수의 레지스터를 사용하는 경우 많은 변수가 지역 메모리에 저장되어 접근 속도가 레지스터보다 느려 항상 더 높은 성능을 보장하지는 않으므로 적절한 조율이 필요함\n",
        " - 블록 내 스레드 수를 줄이는 것\n",
        "   - 병렬성을 낮춘다는 의미로 더 높은 성능을 보장하지는 않으므로 적절한 조율이 필요함\n",
        "\n",
        "**- 스레드 당 최대 레지스터 수 지정하기**\n",
        "\n",
        "- 어떤 지역 변수가 레지스터를 사용할지는 컴파일러에 의해 결정되기에 직접 지정할 수 없으나 한 스레드가 사용할 수 있는 최대 레지스터 수는 NVCC 컴파일러 옵션을 통해 지정할 수 있음\n",
        "\n",
        "\n",
        "```\n",
        "--maxrregcount amount(최대 스레드 수)\n",
        "```\n",
        "\n",
        "나. 활성 블록\n",
        "- 필요한 메모리 자원을 모두 할당받은 블록을 의미함\n",
        "  - 레지스터와 공유 메모리 공간 할당을 의미함\n",
        "  - SM 내 모든 블록이 필요한 만큼의 레지스터 공간을 할당받기는 힘듦\n",
        "- 비활성 블록에 대한 전환에는 높은 문맥 교환 비용이 발생함\n",
        "- 활성 블록 수를 늘리는 방법\n",
        "  - 커널에서 공유 메모리 사용량을 줄이는 것\n",
        "  - 공유 메모리 공간은 CUDA 프로그램 성능을 높이는 핵심 전략 중 하나로 무조건 줄이는 것은 답이 아님 적절한 조율이 필요함"
      ],
      "metadata": {
        "id": "g2Flo5moIIAh"
      }
    },
    {
      "cell_type": "markdown",
      "source": [
        "2.활성 워프 비율\n",
        "- 레지스터와 공유 메모리 사용량에 따라 서널의 성능에 어떤 변화가 발생할지에 대해 정확히 예측하기란 불가능에 가까움\n",
        "- 그러나 occupancy(점유)라는 개념을 통해 대략적인 예측 및 조절은 가능함\n",
        "\n",
        "\n",
        "> occupancy = (# of active warps) / (# of maximum warps)\n",
        "\n",
        "- Occupancy는 SM의 최대 워프 수 대비 활성 워프 비율을 의미함\n",
        "- 따라서 높은 Occupancy는 높은 병렬성을 의미함( 항상 커널의 성능이 높아지는 것은 아니지만 높은 성능을 이끌 가능성이 높음)\n",
        "- 엔비디아는 이러한 계산을 편하게 할 수 있도록 CUDA Occupnacy calculator라는 도구를 제공함\n",
        "  - CUDA 툴킷을 설치하면 같이 설치되는 엑셀 파일로 CUDA 툴킷이 설치된 폴어의 하위 폴더인 tools에서 찾을 수 있음\n",
        " - 12버전 이후부터는 안주고 Nsight compute로 통합됨 그러나 복잡하므로 CUDA occupancy calculator 파일 다운로드 가능함\n"
      ],
      "metadata": {
        "id": "GZEPDhOjWWwl"
      }
    },
    {
      "cell_type": "markdown",
      "source": [
        "1. GPU의 compute capability와 공유 메모리 크기 설정"
      ],
      "metadata": {
        "id": "ywM7uS4Pa2_k"
      }
    },
    {
      "cell_type": "markdown",
      "source": [
        "![image.png](data:image/png;base64,iVBORw0KGgoAAAANSUhEUgAAAbgAAAAmCAYAAAC20Y40AAAAAXNSR0IArs4c6QAAAARnQU1BAACxjwv8YQUAAAAJcEhZcwAADsMAAA7DAcdvqGQAABAhSURBVHhe7Z3Pi6RHGcd78wesIoNCxAhLDoOQwwYZL7kkSoRFjOf1JBGyRw0sK+hNRJeFePGwAQc9mD27OQwkiF5yiEPIHrzsIVnCCgFlQAjkvH6/T9f3zfNWV9X7vj1vd8/sPh94p6f7fbveqqeqnh/1Vldd+Pzzzx8twPvvv7946aWX+G8QBEEQnHsufPLJJ2bgPv7448VHX/qufRgEQRCcXV77dvonKPLokZm1RS+CCwMXBEFw9qGBe/OD9CboQdnIwD1lf4MgCILgMeNcGLjP3lla5aN/pQ+Cx4//Lha3Ucev/TG9L3DE879Ae+Cb7PoHeGUbOcbnu6B3/xFlEb0yBUEwK4MGbkhxHKNz8vyD9L6JOr47tmm0ZChHKcFCXscorF1iynKGPEpO/jgzzsWzi8XF9G+Jva8uXyfVdQu1gzXkevkb6Z812LXBDoIeuT4c6A+5DhllHzZA1cCpg928nT6ocPC7xeLV7+G6IQVAAV1ZLO5dW44d87j1m3RuS5z8O/0zgFUO8rpA/pTXN4+gsJanzyaQ78P072mgw3L9l6hTlHdX9VTjCvPz0/Qm4xI+Z14vpfdj63qI4zdSm63ctwiM7DXk5dr30/s1YHlu4L6HuH9Ed8GuOX57sbia9MGbf8IHsAu3oSdLUH96HfIKPru5o1GKdgQHw/UqOtkQBz/GHxS45eV/dg+KAq+vfGf5nlyEArjyXHoDZFTHWP3mtchHdy4JlopbxvoQxqs6LARDcQeVs0C5ewqKSsspufz+vrLlvRzlecy8IJ9nDVUd4dB5n2YeKXf3oMxZXjoPPIEydp+D3JNqRQS89vBvqCM04IMUCZG8niyv6fB5lEx65c7knOenVMc+fd+mWsN5ujfLt1LXP18s/lD4rv9OEdyb8nj1h+l9wuev+F3VM9LvYB3pe5UyeC+Z6V7CfS/j/necjCeNmATBTBxA93UjJ9AFNFr3Kk7k/X/gD2zHftIh+7QhaMf3a/1sg1QNnHnEiM720vsmqcB3/7l8W+Li08vXuz8pKwUqGyqlMVa/da0pUNzjsqKv1yFYKBdGmvSIiX0P70tDXSVDnJPfnxHOPRjF3MDfxaHz5Ca8cfOC6AHxvVeABI1gAWeB32FeS2kWgfy7CBPf4/dpkCgLelI0WPyMkTYVfk05WsME+86Y5VDB7rMMLo95farcVk6U6brKibLcwYudS/ldkQHkupfkyvzW2kuLlbr+PeTB91knu08jiM+9Mfc8YHt2HVUG6C4+u5VksPQq2tTaZM5RclJu4BrLE47nca97qJeiQQyCXYC2yz5eBH3kQ+ox9yhhLw3Vn/xn+bpNZptkYlb6o0ZHhNKU0jGvOnmpIlc2LavfulZK+mVFX7jmoKGwczS0tfe15WsJu79TfIxwzMC/1S+/jKSM++UXU6UjP7x+BaT5Qsqree94ffjp8v06yJNSmvu4PykpV3LChonrW04NjYeGAWsNt4t4cF8aqa5d4H0XFUN2z/A1bzO+XlN+5+gYkufh28v36qR5dOaxenYdtXN+4IToswMf5VcY0ybfg+PA/NC4Sb7EZIB6OVm+NfnTSPprgmBbyFkjN6YM2++I2QzcGPScxJQeoKGzCAWGyZ4fQaFoGEdDTCsMXDtGSZ8K3X9gssMocuVeSLM2DDAGkwWO60lOjOZOi4bIWulpokeHFDTqWt/lUfIC/cQMOQanMfIdyBOjIbYbRrAr0VkFn58xzk+JwTaJ83dxMMILwxWcVdj3rc+jLXME4zy01a0aOGFeaBqm6w1rwnu3IRx31IaPmtdKoa7BpRR1dZ5+Du5hkccm8AYPUQujhdPMxDNSY/Ry8s/TPIqE36tEePTe9IyO6dQmn5y4qNsr9yN6fi4/xSjW8VkybM8kQ3da7FkxYATL6MxHYjVKDsZaEWWrTUImfNY9ekg6CLYMH8uw75verTzeMaQfnS5b1zGcg/UMXPLE/QSDExSoFdVQOZY6rylwCOVlKlcoHT9syckKKwxc+0JSuu8qb7jmON131FgwlL8NpSL93iwhpHM73cMMgbs/y8ZoZIzCbIIGpCHZ47eWr8+nqZt7kC2R8dCwV0ehYZkskKY3WMcoQy9qdDDCtqHW7LlXre5W8pD4MD2Xkly6oVkP0itFcFTyekb4XooQW88EaxTrGumwfA8hW957KN182F3DnH4o+ti3kQqtNin2IfvSM0dTDslBIDHJJNg6aI/vQt+Zc1oalkRb9vYgf7yUP1LaJvNEcCgIHyy2JmYQdl4NT+mhu57JULlqEoSuYacv0bqWz8M06cPOvYFzSZF1z8qYDyiKlqLvpcEjTQDQeRpB3V8TOWqR0RSUZj6bUcZH50+SwfPIoHFIkgaJ5WU+vdwXUNItI8yp+LlsNRTZkx8+L+WBSG72Pdxfdezz9xoid6ZV4ma6L40QJ4msMxRSq2vm4R7yMGY40KJ5XNs9B0ZdXOPkGJUBx3JmT5tWm/QcvL5MjrKXQ0HlUHQQgmDbuHZvRykAAbl+tklZST9vm1nWorRZhfB0b7VC16AJp55bQzjHMvSzS3fhrY2BUSUN79g8MmI6xOsu6kV5zSeeBAENB4f5g1Uom9nWouyUGrzPMG7BWceGPScMl/B58Sv0XBsR/yaQcWMUH8YtCNbj1AaO4Sg9ibPqsQcB0Y+z78K4TVqVBNgKKluO4Dis2ZoQFATBMLFdThAEwTkjhijr+CHK2PA0CILgnEElHtSJDU+DIAjOKRHB1fER3E5+6B0EQRAEm2YWA8eZlLSa/geq26a10vxWgQxWVpLfMmdGFmcczlRkuz23q4eoreHgj2w3VZ5oT8F5ZdDAndZ4Tf2+Zrvp6K0msgXs/iOMk8rVHedJAaSVB2ry9WV7HFbMGGpTG1tCyBmg7hjRtsZiuw/wt5MffPFjejJHeeZcMWVsn6pyBpzGJwE5SLmcff+p6eNiexlq//n5DdRv1cBJyVUXPR5Jt+rHiI0bKUi/FYnWq9waEPiYTUMpG/2g2fKJo7Yqx1nmMmS9shULZMBleXjucaDVpjQVfxM/cTFlAQO0zU1z5yoP886VdGb5gfnIPtUE5bEVZNAuz220fQ7Q0nieXv9B3+FqPL4OZNhsncqctJ6u1q61w/1EZ8omquvSjuBQsDEbnooTZLizxi6iKW3cuAKEtrJu4XN9z7TzMNLRigqHrlXF8LAKY1RDj5gnIeju8wL5djnkSuF3Ut7z6d0f/3vPxd/HvoO8cc1InpNHlEeM3lPy56Y0kOfTVix+SyLbEgZlKy0oXZWpyoN8+DKzXCtydvhreXgZqUxc61HfVVo9WeJzflYsN8612pTKY/lSGbKjy3N2vilnXLuxTXN5MuXF1vLkj9B5HfLZK0/Cy5/tSvXUgoqutJQZt/RRWsprs06Y90qfavVPf66TCWTHNWi59NocUWXQh22RhqzngKGu2Ma6NXbRd2z5u2xbMLZzLs1VozaiMGUT1XWpGjj7ATeU9pRtZyiMzhqz46kjoXEObtwIIVC4uYcg2Oi1sgPvobXOSo196FoqVnmoPL//Kb4DAZc2DS2xx8r05SuBDm0bg6Y0fQR7pI1PcTBvK50WaR/SiCbY+HzEyIbgN3jlOZX1Kj4zxTeCk6eXaWlxZMIFlGkQ8nofJf+szCzX4vUv8uzLyTrwkVWtPg9xT6HdAHx+bdsb0O215hloUz1ofFJefJRna0bSoFBRp3ahdSVraW5i01zlyRZsTnmlTG0BXPxfaqu8B9u57nHj2WW+muD+vKcW+e5AOqXNeJt1Qh2S2oLvU822hDR5TpvDsj3L+Gmnj9p+hsGaQJ5sizfQVz3azcMj3dfbn9A5bR59n3UrhyXv3x2p3c3NLJNMhN/o0jqfW4k937hxBXTaq2jUxBbIhTB8Z5+yeWfz2iRI76FegnLMo68WWhRXXmnRI0aHtvSTcfdl99FevkuAkFJiGvlq3KUNXvMFpcfCtDrHA+lx0ewV5QZGyd+V2SJAXN/btl6oDpCG5CBF2a24n5CiMwWOg8qQylUdxRYjdnXZY6BN1bBtfQAVMNOVwVL7vgj5UES1Hew3sWluZ6wneLj5PbQbQgsZp5U9/Vzdy9DYPn1T6wSMaUsqJ+XSDbniespolv0BgyV03tDe1dY9XTtXm0T9FIciK2jI3I7k6Mgx99Dh2dQmqrMaON8pcks/BgnEtqsBVEoaopiyeWfr2ln2GEM5zduXp48OPWWSiR+ao+e0glNKbICb3OBVw8c0lqbIIfvSM5wp8m9BQz6lDnJjW3JWSgZZtNpUCRuq4T+4XlGRDFbniTKaW360HqpTODdTHKtJnOYepfbk08mM7dQ6abalZDC79j6hXwXTsYlKrq33oJ6jjlNdoe/Ys/l19A3Syh19wiFuq3+c40hEzSlal1kNnOc0iteGR5PF7w1rJiF0XgGOYsWQgWtn8QKRHtO1Dony+mdZNaRAu2GjpHgHwXW+LDyKkwmk2MaSGh6HmOhZN7c8miL/Btqpex26SAeRhkUbkMuYSRXVNuWBcpbzUPIkVWfdUfE2d7ppbov00H+QTAmtkNLRZrxr1UmjLdmwF96rXzWf3Qfrk5yRzpmQ48b3GpVKOk7HM6iPubZv0hC66bbCHIY5WM/AQTAUSO4Ja3iJIScF5wWRb9y4AtIsetbJc5yyeWfrWnVGP6TyAPe1dKR43NBqiaOKV7kyrDMCG0ZqgTRbG7xquFJl1XDaFOiBUx5sbLVNQKfIfxDcIx+O0wavxWdpGVZm1BFnezYN8kCbysmHJoWG9rzBYhvvTazwoHzmuCB/vfvj+o1vmivQbsxjdveQjFvIOOdD5qV0fJRWrZNCn2q1JcpBw8gatu7A/em8zbXD+xNPZrx6z0sLzpuc8zF9lHR6laBOZcysb6Eum5uozsSsERyVZDfkgIL4GWQ2Lj9g+fX9zptwgqZhotLQsxQetc07h67l6vBUsNpY8z46jM6p8zEkrz6vSeeVNitu7JTqTlmm4S7KaQhGH/Rm/cNabfCqcyrrdTgSLNsUNNbeNb4CU+Q/BqsDJ8fJMsT1nO2p5zg1Wm3KIwNDfBmtDUBJ21AN2rA+v4O3rSiF9bKrTXOFbfWDV93jBP2P9azIq0hyPvykEaF0WFfMqy9/q07yPtVqSzy3jyjQPsd5r0fkvNWcsGB+8scpk346Al3U6clUlyt9L7UL3WPu38JtZS1KKg924Fl+VxME8P44q5G/MetNww/awLhQ0QwZUvVXDsmOGf41tlAnVLYPo84NGgNGXcEqlM3W1qJUZynN0gmCdXjw9tKTHztU8qTCISU/jKqhxaEISBEWI7bqMGzGputEPyu5GnUeTCB2EwjODVTY3SSQGA0YxMvLgIG4NfPD/KiT3RARXB0fwZmB+/pvf2Bvbv6IP1AJgiAIzjJh4Mrc+OuL6b8lF/58/51HP/sL3Drwv1//3V6DIAiCs8uFCxfSf4Hny7/qG7invvWVb6Z/gyAIgvMAh+DiWD0EgzUeG59kEgRBEATbZ7H4P01WMqVahJLwAAAAAElFTkSuQmCC)"
      ],
      "metadata": {
        "id": "vqCFteola2JS"
      }
    },
    {
      "cell_type": "markdown",
      "source": [
        "2. 자원 사용량 입력\n",
        "- 블록 당 스레드 수, 스레드당 레지스터 수, 블록당 공유 메모리 사용량"
      ],
      "metadata": {
        "id": "7g1bwxMka9ow"
      }
    },
    {
      "cell_type": "markdown",
      "source": [
        "![image.png](data:image/png;base64,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)"
      ],
      "metadata": {
        "id": "i2vFLs1EbL0m"
      }
    },
    {
      "cell_type": "markdown",
      "source": [
        "3. 계산 결과\n",
        "\n",
        "![image.png](data:image/png;base64,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)"
      ],
      "metadata": {
        "id": "qT1WFE2YbPYL"
      }
    },
    {
      "cell_type": "markdown",
      "source": [
        "4. 어떤 자원이 occupancy를 제한하는 지 알려줌\n",
        "\n",
        "![image.png](data:image/png;base64,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)"
      ],
      "metadata": {
        "id": "NyTfGUuAbVvs"
      }
    },
    {
      "cell_type": "markdown",
      "source": [
        "- 그래프도 제공하지만 occupancy calculator는 이론치이므로 실제와는 다를 수 있음\n",
        "- 만약 스레드당 레지스터 수를 지정하지않으면 NVCC 컴파일러가 자체 결정하기 때문에 Occupancy를 계산할 수 없음\n",
        "- Nsight Compute를 사용하면 실제 커널이 사용하는 자원의 양과 커널 실행 중 달정하는 Occupancy를 측정할 수 있음\n"
      ],
      "metadata": {
        "id": "61U_eNqGbjFW"
      }
    }
  ]
}