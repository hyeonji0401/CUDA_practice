{
  "nbformat": 4,
  "nbformat_minor": 0,
  "metadata": {
    "colab": {
      "provenance": [],
      "gpuType": "T4",
      "authorship_tag": "ABX9TyNMUOb28nbmd+UalWpXsQJy",
      "include_colab_link": true
    },
    "kernelspec": {
      "name": "python3",
      "display_name": "Python 3"
    },
    "language_info": {
      "name": "python"
    },
    "accelerator": "GPU"
  },
  "cells": [
    {
      "cell_type": "markdown",
      "metadata": {
        "id": "view-in-github",
        "colab_type": "text"
      },
      "source": [
        "<a href=\"https://colab.research.google.com/github/hyeonji0401/CUDA_practice/blob/main/threadLayout_Indexing.ipynb\" target=\"_parent\"><img src=\"https://colab.research.google.com/assets/colab-badge.svg\" alt=\"Open In Colab\"/></a>"
      ]
    },
    {
      "cell_type": "markdown",
      "source": [
        "# 5.1 1,024보다 큰 벡터의 합 구하기\n",
        "\n",
        "1.스레드 레이아웃 결정\n",
        "\n",
        "- 절차 : 블록 크기 결정 -> 데이터의 크기 및 블록 크기에 따라 그리드 크기 결정\n",
        "- 블록 크기 결정 시에는 커널의 성능 특성과 GPU 자원의 제한을 고려해야함\n",
        "- 블록 및 그리드 크기와 레지스터나 공유 메모리 크기 등도 제한이 있는 자원에 속함\n",
        "\n",
        "2.각 스레드가 접근할 데이터 인덱스 계산\n",
        "- threadIdx만 사용하서 벡터 내 원소를 접근하는 경우 : 여러 개의 블록을 사용하는 경우 한 블록 내에서는 모두 스레드 번호가 다르지만, 다른 블록에는 번호가 같은 스레드가 존재하여 모든 블록의 n번 스레드는 동일한 원소에 접근하게 됨\n",
        "\n",
        "=> 우리는 1번 블록의 m번째 스레드는 vector[블록의 크기+m]원소를 처리하도록 해야함\n",
        "\n",
        "**1차원 블록의 경우 m번째 스레드가 접근할 벡터의 원소**\n",
        "\n",
        "\n",
        "\n",
        "```\n",
        "vector[blockDim.x + threadIdx.x]\n",
        "```\n",
        "\n",
        "**n번 블록 m번째 스레드가 접근할 벡터의 원소**\n",
        "\n",
        "\n",
        "```\n",
        "vector[blockIdx.x*blockDim.x+threadIdx.x]\n",
        "```\n"
      ],
      "metadata": {
        "id": "OghCODjf5zYK"
      }
    },
    {
      "cell_type": "markdown",
      "source": [
        "3.계산된 인덱스를 반영한 커널 작성"
      ],
      "metadata": {
        "id": "4-19Gi4JH31W"
      }
    },
    {
      "cell_type": "code",
      "source": [
        "%%cuda\n",
        "#include \"cuda_runtime.h\"\n",
        "#include \"device_launch_parameters.h\"\n",
        "\n",
        "#include <stdio.h>\n",
        "#include <stdlib.h>\n",
        "#include <string.h>\n",
        "#include <chrono>\n",
        "#include <iostream>\n",
        "\n",
        "// The size of the vector\n",
        "#define NUM_DATA (1024*1024*128)\n",
        "\n",
        "// Simple vector sum kernel (Max vector size : 1024)\n",
        "__global__ void vecAdd(int* _a, int* _b, int* _c, int _size) {\n",
        "\tint tID = blockIdx.x*blockDim.x+threadIdx.x;\n",
        "  if(tID< _size)\n",
        "\t  _c[tID] = _a[tID] + _b[tID]; //마지막 블록의 경우 벡터의 크기를 벗어나는 인덱스를 가져 잘못된 영역에 접근하므로 벡터 크기 이상으로는 작업을 중지하도록 예외처리 필요함\n",
        "}\n",
        "\n",
        "int main(void)\n",
        "{\n",
        "\n",
        "\tint* a, * b, * c, * hc;\t// Vectors on the host\n",
        "\tint* da, * db, * dc;\t// Vectors on the device\n",
        "\n",
        "\tint memSize = sizeof(int) * NUM_DATA;\n",
        "\tprintf(\"%d elements, memSize = %d bytes\\n\", NUM_DATA, memSize);\n",
        "\n",
        "\t// Memory allocation on the host-side\n",
        "\ta = new int[NUM_DATA]; memset(a, 0, memSize);\n",
        "\tb = new int[NUM_DATA]; memset(b, 0, memSize);\n",
        "\tc = new int[NUM_DATA]; memset(c, 0, memSize);\n",
        "\thc = new int[NUM_DATA]; memset(hc, 0, memSize);\n",
        "\n",
        "\t// Data generation\n",
        "\tfor (int i = 0; i < NUM_DATA; i++) {\n",
        "\t\ta[i] = rand() % 10;\n",
        "\t\tb[i] = rand() % 10;\n",
        "\t}\n",
        "\n",
        "\n",
        "\t// Vector sum on host (for performance comparision)\n",
        "  auto hostStart = std::chrono::high_resolution_clock::now();\n",
        "\tfor (int i = 0; i < NUM_DATA; i++)\n",
        "\t\thc[i] = a[i] + b[i];\n",
        "  auto hostEnd = std::chrono::high_resolution_clock::now();\n",
        "  // 밀리초 단위로 경과 시간 계산 (소수점 포함)\n",
        "  std::chrono::duration<double, std::milli> hostElapsed = hostEnd - hostStart;\n",
        "\n",
        "\n",
        "\t// Memory allocation on the device-side\n",
        "\tcudaMalloc(&da, memSize); cudaMemset(da, 0, memSize);\n",
        "\tcudaMalloc(&db, memSize); cudaMemset(db, 0, memSize);\n",
        "\tcudaMalloc(&dc, memSize); cudaMemset(dc, 0, memSize);\n",
        "\n",
        "  cudaEvent_t kernelStart, kernelStop;\n",
        "  cudaEventCreate(&kernelStart);\n",
        "  cudaEventCreate(&kernelStop);\n",
        "\n",
        "  auto GPUstart = std::chrono::high_resolution_clock::now();\n",
        "\n",
        "\t// Data copy : Host -> Device\n",
        "\tauto h2dStart = std::chrono::high_resolution_clock::now();\n",
        "\tcudaMemcpy(da, a, memSize, cudaMemcpyHostToDevice);\n",
        "\tcudaMemcpy(db, b, memSize, cudaMemcpyHostToDevice);\n",
        "\tauto h2dEnd = std::chrono::high_resolution_clock::now();\n",
        "  std::chrono::duration<double, std::milli> h2dElapsed = h2dEnd - h2dStart;\n",
        "\n",
        "  //thread Layout : host 코드임\n",
        "  auto threadLayoutStart = std::chrono::high_resolution_clock::now();\n",
        "  dim3 dimGrid(ceil((float)NUM_DATA/256),1,1);\n",
        "  dim3 dimBlock(256,1,1);\n",
        "  auto threadLayoutEnd = std::chrono::high_resolution_clock::now();\n",
        "  std::chrono::duration<double, std::milli> threadLayoutElapsed = threadLayoutEnd - threadLayoutStart;\n",
        "\n",
        "\t// Kernel call\n",
        "\tcudaEventRecord(kernelStart, 0);\n",
        "\tvecAdd <<<dimGrid, dimBlock >>> (da, db, dc, NUM_DATA);\n",
        "  cudaEventRecord(kernelStop, 0);\n",
        "  cudaEventSynchronize(kernelStop);\n",
        "  float kernelTime;\n",
        "  cudaEventElapsedTime(&kernelTime, kernelStart, kernelStop);\n",
        "\n",
        "\n",
        "\t// Copy results : Device -> Host\n",
        "  auto d2hStart = std::chrono::high_resolution_clock::now();\n",
        "\tcudaMemcpy(c, dc, memSize, cudaMemcpyDeviceToHost);\n",
        "  auto d2hEnd = std::chrono::high_resolution_clock::now();\n",
        "  std::chrono::duration<double, std::milli> d2hElapsed = d2hEnd - d2hStart;\n",
        "\n",
        "\tauto GPUend = std::chrono::high_resolution_clock::now();\n",
        "  std::chrono::duration<double, std::milli> GPUelapsed = GPUend - GPUstart;\n",
        "\n",
        "\t// Release device memory\n",
        "\tcudaFree(da); cudaFree(db); cudaFree(dc);\n",
        "\n",
        "  // 결과 출력 (밀리초 단위, 소수점 포함)\n",
        "  std::cout << \"Host time: \" << hostElapsed.count() << \" ms\" << std::endl;\n",
        "  std::cout<<\"Host -> Device: \" << h2dElapsed.count() << \" ms\" << std::endl;\n",
        "  std::cout<<\"Kernel: \" << threadLayoutElapsed.count() + kernelTime << \" ms\" << std::endl;\n",
        "  std::cout<<\"Device -> Host: \" << d2hElapsed.count() << \" ms\" << std::endl;\n",
        "  std::cout<<\"CUDA Total Time: \" << GPUelapsed.count() << \" ms\" << std::endl;\n",
        "\n",
        "  cudaEventDestroy(kernelStart);\n",
        "  cudaEventDestroy(kernelStop);\n",
        "\n",
        "\t// Check results\n",
        "\tbool result = true;\n",
        "\tfor (int i = 0; i < 1; i++) {\n",
        "\t\tif (hc[i] != c[i]) {\n",
        "\t\t\tprintf(\"[%d] The result is not matched! (%d, %d)\\n\"\n",
        "\t\t\t\t, i, hc[i], c[i]);\n",
        "\t\t\tresult = false;\n",
        "\t\t}\n",
        "\t}\n",
        "\n",
        "\tif (result)\n",
        "\t\tprintf(\"GPU works well!\\n\");\n",
        "\n",
        "\t// Release host memory\n",
        "\tdelete[] a; delete[] b; delete[] c; delete[] hc;\n",
        "\n",
        "\treturn 0;\n",
        "}"
      ],
      "metadata": {
        "colab": {
          "base_uri": "https://localhost:8080/"
        },
        "id": "wwRdi342H6-D",
        "outputId": "98d2f011-daae-435d-8bb7-c44c6f5f7c5a"
      },
      "execution_count": 13,
      "outputs": [
        {
          "output_type": "stream",
          "name": "stdout",
          "text": [
            "134217728 elements, memSize = 536870912 bytes\n",
            "Host time: 393.343 ms\n",
            "Host -> Device: 229.888 ms\n",
            "Kernel: 6.29047 ms\n",
            "Device -> Host: 112.496 ms\n",
            "CUDA Total Time: 348.766 ms\n",
            "GPU works well!\n",
            "\n"
          ]
        }
      ]
    },
    {
      "cell_type": "markdown",
      "source": [
        "결과\n",
        "- CPU연산보다 GPU연산 시 명백히 더 빠른 연산 성능을 보임\n",
        "\n",
        "주의할 점\n",
        "- 연산 시간 뿐만 아니라 데이터 전송 시간을 고려해야함\n",
        "- 데이터 전송 시간 고려시 큰 차이가 나지 않음\n",
        "\n",
        "=> 필요한 연산 양에 비해 데이터 전송 시간의 부하가 매우 커서 CPU사용 대비 효율이 낮음\n",
        "\n",
        "=> 단순한 연산의 경우 연산 속도보다 데이터 전송 시간의 부하가 더 커질 수도 있음\n",
        "\n",
        "- GPU 스레드 레이아웃은 GPU 환경 설정과 관련된 부분으로 CPU에서 동작함"
      ],
      "metadata": {
        "id": "1TB1x126QD38"
      }
    }
  ]
}